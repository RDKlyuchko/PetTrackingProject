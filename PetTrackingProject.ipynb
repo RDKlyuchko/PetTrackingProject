{
 "cells": [
  {
   "cell_type": "markdown",
   "metadata": {},
   "source": [
    "# Pet Tracking Project"
   ]
  },
  {
   "cell_type": "markdown",
   "metadata": {},
   "source": [
    "### Importing Libraries"
   ]
  },
  {
   "cell_type": "code",
   "execution_count": null,
   "metadata": {},
   "outputs": [],
   "source": [
    "import cv2\n",
    "import os\n",
    "import numpy as np\n",
    "import xml.etree.ElementTree as ET\n",
    "import torch\n",
    "import subprocess\n",
    "from ultralytics import YOLO\n",
    "\n",
    "print(\"All libraries installed successfully!\")\n"
   ]
  },
  {
   "cell_type": "markdown",
   "metadata": {},
   "source": [
    "### Video Cropping"
   ]
  },
  {
   "cell_type": "markdown",
   "metadata": {},
   "source": [
    "This script cropps the video to 1280x736 size"
   ]
  },
  {
   "cell_type": "code",
   "execution_count": null,
   "metadata": {},
   "outputs": [],
   "source": [
    "def crop_video(input_path, output_path, crop_width=1280, crop_height=736, crop_x=0, crop_y=100):\n",
    "\n",
    "    command = [\n",
    "        'ffmpeg',\n",
    "        '-i', input_path,\n",
    "        '-vf', f'crop={crop_width}:{crop_height}:{crop_x}:{crop_y}',\n",
    "        '-c:a', 'copy',\n",
    "        output_path\n",
    "    ]\n",
    "    \n",
    "    subprocess.run(command, check=True)\n",
    "    \n",
    "    print(f'Video has been cropped: {output_path}')\n",
    "\n",
    "input_video = 'Videos\\OriginalVideos\\cat22.mp4'\n",
    "output_video = 'Videos\\CroppedVideos\\cat22_cropped.mp4'\n",
    "\n",
    "crop_video(input_video, output_video, crop_width=1280, crop_height=736, crop_x=180, crop_y=130)"
   ]
  },
  {
   "cell_type": "markdown",
   "metadata": {},
   "source": [
    "### Frames Extracting"
   ]
  },
  {
   "cell_type": "markdown",
   "metadata": {},
   "source": [
    "This script extracts frames, by changing frame_interval you can change how many frames you will get"
   ]
  },
  {
   "cell_type": "code",
   "execution_count": null,
   "metadata": {},
   "outputs": [],
   "source": [
    "video_path = 'Videos/CroppedVideos/cat22_cropped.mp4'\n",
    "output_dir = 'frames_cat/'\n",
    "os.makedirs(output_dir, exist_ok=True)\n",
    "\n",
    "existing_frames = [f for f in os.listdir(output_dir) if f.startswith('frame_') and f.endswith('.jpg')]\n",
    "if existing_frames:\n",
    "    max_frame_number = max([int(f.split('_')[1].split('.')[0]) for f in existing_frames])\n",
    "else:\n",
    "    max_frame_number = -1\n",
    "\n",
    "cap = cv2.VideoCapture(video_path)\n",
    "frame_count = 0\n",
    "\n",
    "frame_interval = 10\n",
    "\n",
    "while cap.isOpened():\n",
    "    ret, frame = cap.read()\n",
    "    if not ret:\n",
    "        break\n",
    "    if frame_count % frame_interval == 0:\n",
    "        frame_path = os.path.join(output_dir, f'frame_{max_frame_number + frame_count + 1:05d}.jpg')\n",
    "        cv2.imwrite(frame_path, frame)\n",
    "    frame_count += 1\n",
    "\n",
    "cap.release()\n"
   ]
  },
  {
   "cell_type": "markdown",
   "metadata": {},
   "source": [
    "### Converting Labels Format"
   ]
  },
  {
   "cell_type": "markdown",
   "metadata": {},
   "source": [
    "This script converts format of label files from .xml (Pascal VOC format) to .txt (YOLO format)"
   ]
  },
  {
   "cell_type": "code",
   "execution_count": null,
   "metadata": {},
   "outputs": [],
   "source": [
    "def convert(size, box):\n",
    "    dw = 1. / size[0]\n",
    "    dh = 1. / size[1]\n",
    "    x = (box[0] + box[1]) / 2.0 - 1\n",
    "    y = (box[2] + box[3]) / 2.0 - 1\n",
    "    w = box[1] - box[0]\n",
    "    h = box[3] - box[2]\n",
    "    x = x * dw\n",
    "    w = w * dw\n",
    "    y = y * dh\n",
    "    h = h * dh\n",
    "    return (x, y, w, h)\n",
    "\n",
    "def convert_annotation(image_id):\n",
    "    in_file = open(f'OldLabels/{image_id}.xml')\n",
    "    out_file = open(f'NewLabels/{image_id}.txt', 'w')\n",
    "    tree = ET.parse(in_file)\n",
    "    root = tree.getroot()\n",
    "    size = root.find('size')\n",
    "    w = int(size.find('width').text)\n",
    "    h = int(size.find('height').text)\n",
    "\n",
    "    for obj in root.iter('object'):\n",
    "        difficult = obj.find('difficult').text\n",
    "        cls = obj.find('name').text\n",
    "        if cls != \"dog\" or int(difficult) == 1:\n",
    "            continue\n",
    "        cls_id = 0\n",
    "        xmlbox = obj.find('bndbox')\n",
    "        b = (float(xmlbox.find('xmin').text), float(xmlbox.find('xmax').text), float(xmlbox.find('ymin').text),\n",
    "             float(xmlbox.find('ymax').text))\n",
    "        bb = convert((w, h), b)\n",
    "        out_file.write(str(cls_id) + \" \" + \" \".join([str(a) for a in bb]) + '\\n')\n",
    "\n",
    "if __name__ == '__main__':\n",
    "    classes = [\"dog\"]\n",
    "\n",
    "    if not os.path.exists('NewLabels/'):\n",
    "        os.makedirs('NewLabels/')\n",
    "\n",
    "    image_ids = [os.path.splitext(f)[0] for f in os.listdir('OldLabels') if f.endswith('.xml')]\n",
    "    for image_id in image_ids:\n",
    "        convert_annotation(image_id)\n"
   ]
  },
  {
   "cell_type": "markdown",
   "metadata": {},
   "source": [
    "### Resizing Frames + Adjusting Labels"
   ]
  },
  {
   "cell_type": "markdown",
   "metadata": {},
   "source": [
    "This script resizes and pads images to a target size while adjusting the corresponding labels to maintain the correct bounding box coordinates"
   ]
  },
  {
   "cell_type": "code",
   "execution_count": null,
   "metadata": {},
   "outputs": [],
   "source": [
    "def preprocess_image_and_labels(image_path, label_path, output_image_path, output_label_path, target_size=(1280, 1280)):\n",
    "\n",
    "    image = cv2.imread(image_path)\n",
    "    h, w = image.shape[:2]\n",
    "\n",
    "    if w != 1280 or h != 736:\n",
    "        raise ValueError(f\"Expected image size 1280x736, but got {w}x{h}\")\n",
    "\n",
    "    padded_image = np.full((target_size[1], target_size[0], 3), 128, dtype=np.uint8)\n",
    "    pad_y = (target_size[1] - h) // 2\n",
    "    padded_image[pad_y:pad_y + h, 0:w] = image\n",
    "\n",
    "    cv2.imwrite(output_image_path, padded_image)\n",
    "\n",
    "    with open(label_path, 'r') as file:\n",
    "        lines = file.readlines()\n",
    "\n",
    "    with open(output_label_path, 'w') as file:\n",
    "        for line in lines:\n",
    "            parts = line.strip().split()\n",
    "            class_id = parts[0]\n",
    "            x_center = float(parts[1])\n",
    "            y_center = float(parts[2])\n",
    "            width = float(parts[3])\n",
    "            height = float(parts[4])\n",
    "\n",
    "            x_center_abs = x_center * w\n",
    "            y_center_abs = y_center * h\n",
    "            width_abs = width * w\n",
    "            height_abs = height * h\n",
    "\n",
    "            y_center_abs += pad_y\n",
    "\n",
    "            x_center = x_center_abs / target_size[0]\n",
    "            y_center = y_center_abs / target_size[1]\n",
    "            width = width_abs / target_size[0]\n",
    "            height = height_abs / target_size[1]\n",
    "\n",
    "            file.write(f\"{class_id} {x_center} {y_center} {width} {height}\\n\")\n",
    "\n",
    "\n",
    "input_image_folder = 'frames_cat'\n",
    "input_label_folder = 'frames_cat_labeled'\n",
    "output_image_folder = 'NewCatFrames'\n",
    "output_label_folder = 'NewCatLabels'\n",
    "\n",
    "os.makedirs(output_image_folder, exist_ok=True)\n",
    "os.makedirs(output_label_folder, exist_ok=True)\n",
    "\n",
    "for filename in os.listdir(input_image_folder):\n",
    "    if filename.endswith('.jpg') or filename.endswith('.png'):\n",
    "        image_path = os.path.join(input_image_folder, filename)\n",
    "        label_path = os.path.join(input_label_folder, filename.replace('.jpg', '.txt').replace('.png', '.txt'))\n",
    "        output_image_path = os.path.join(output_image_folder, filename)\n",
    "        output_label_path = os.path.join(output_label_folder, filename.replace('.jpg', '.txt').replace('.png', '.txt'))\n",
    "\n",
    "        preprocess_image_and_labels(image_path, label_path, output_image_path, output_label_path)\n"
   ]
  },
  {
   "cell_type": "markdown",
   "metadata": {},
   "source": [
    "### Model Training"
   ]
  },
  {
   "cell_type": "markdown",
   "metadata": {},
   "source": [
    "This script trains the model"
   ]
  },
  {
   "cell_type": "code",
   "execution_count": null,
   "metadata": {},
   "outputs": [],
   "source": [
    "if torch.cuda.is_available():\n",
    "    print(\"GPU is available\")\n",
    "    device = torch.device('cuda')\n",
    "else:\n",
    "    print(\"GPU is not available, using CPU\")\n",
    "    device = torch.device('cpu')\n",
    "\n",
    "model = YOLO('yolov8n.pt')\n",
    "\n",
    "dataset_config = 'E:/PetTrackingProject/coco.yaml'\n",
    "\n",
    "model.train(data=dataset_config, epochs=50, imgsz=1280, device=device)"
   ]
  },
  {
   "cell_type": "markdown",
   "metadata": {},
   "source": [
    "### Dog Detection"
   ]
  },
  {
   "cell_type": "markdown",
   "metadata": {},
   "source": [
    "This script detects the dog on a video"
   ]
  },
  {
   "cell_type": "code",
   "execution_count": null,
   "metadata": {},
   "outputs": [],
   "source": [
    "model = YOLO('runs/detect/train/weights/best.pt')\n",
    "\n",
    "name = 'Another_Angle_Test'\n",
    "\n",
    "input_video_path = f'Videos/OriginalVideos/{name}.mp4'\n",
    "output_video_path = f'Videos/{name}_output.mp4'\n",
    "cap = cv2.VideoCapture(input_video_path)\n",
    "\n",
    "frame_width = int(cap.get(cv2.CAP_PROP_FRAME_WIDTH))\n",
    "frame_height = int(cap.get(cv2.CAP_PROP_FRAME_HEIGHT))\n",
    "fps = cap.get(cv2.CAP_PROP_FPS)\n",
    "\n",
    "fourcc = cv2.VideoWriter_fourcc(*'mp4v')\n",
    "out = cv2.VideoWriter(output_video_path, fourcc, fps, (frame_width, frame_height))\n",
    "\n",
    "while cap.isOpened():\n",
    "    ret, frame = cap.read()\n",
    "    if not ret:\n",
    "        break\n",
    "    \n",
    "    results = model(frame)\n",
    "    \n",
    "    for result in results:\n",
    "        for bbox in result.boxes:\n",
    "            x1, y1, x2, y2 = map(int, bbox.xyxy[0])\n",
    "            confidence = bbox.conf[0]\n",
    "            class_id = int(bbox.cls[0])\n",
    "            label = model.names[class_id]\n",
    "\n",
    "            if label == 'dog':\n",
    "                cv2.rectangle(frame, (x1, y1), (x2, y2), (0, 0, 255), 2)\n",
    "                cv2.putText(frame, f'{label} {confidence:.2f}', (x1, y1 - 10), cv2.FONT_HERSHEY_SIMPLEX, 0.9, (0, 0, 255), 2)\n",
    "    \n",
    "    out.write(frame)\n",
    "\n",
    "cap.release()\n",
    "out.release()\n",
    "cv2.destroyAllWindows()\n"
   ]
  },
  {
   "cell_type": "markdown",
   "metadata": {},
   "source": [
    "### Marking the Doorway "
   ]
  },
  {
   "cell_type": "markdown",
   "metadata": {},
   "source": [
    "This script gives you a photo, where you can pinpoint the doorway and get a coordinates of it"
   ]
  },
  {
   "cell_type": "code",
   "execution_count": null,
   "metadata": {},
   "outputs": [],
   "source": [
    "points = []\n",
    "\n",
    "def get_coordinates(event, x, y, flags, param):\n",
    "    if event == cv2.EVENT_LBUTTONDOWN:\n",
    "        points.append((x, y))\n",
    "        print(f\"Point selected: ({x}, {y})\")\n",
    "        cv2.circle(frame, (x, y), 5, (0, 255, 0), -1)\n",
    "        cv2.imshow('Frame', frame)\n",
    "\n",
    "cap = cv2.VideoCapture('Videos/OriginalVideos/Dog_Enters_Leaves_Test.mp4')\n",
    "ret, frame = cap.read()\n",
    "cap.release()\n",
    "\n",
    "if not ret:\n",
    "    print(\"Failed to read the video\")\n",
    "else:\n",
    "    cv2.imshow('Frame', frame)\n",
    "    cv2.setMouseCallback('Frame', get_coordinates)\n",
    "    cv2.waitKey(0)\n",
    "    cv2.destroyAllWindows()\n",
    "\n",
    "print(\"Selected points:\", points)\n"
   ]
  },
  {
   "cell_type": "markdown",
   "metadata": {},
   "source": [
    "### Dog Movement Detection"
   ]
  },
  {
   "cell_type": "markdown",
   "metadata": {},
   "source": [
    "This script detects whether the dog inside, in doorway or outside"
   ]
  },
  {
   "cell_type": "code",
   "execution_count": null,
   "metadata": {},
   "outputs": [],
   "source": [
    "model = YOLO('runs/detect/train3/weights/best.pt')\n",
    "\n",
    "cap = cv2.VideoCapture('Videos/OriginalVideos/Dog_Enters_Leaves_Test.mp4')\n",
    "\n",
    "entrance_exit_polygon = np.array([(431, 197), (507, 194), (512, 132), (436, 134)])\n",
    "\n",
    "dog_state = 'outside'\n",
    "\n",
    "def is_in_doorway(center, polygon):\n",
    "    return cv2.pointPolygonTest(polygon, (int(center[0]), int(center[1])), False) >= 0\n",
    "\n",
    "fourcc = cv2.VideoWriter_fourcc(*'XVID')\n",
    "out = cv2.VideoWriter('Videos/Results/Dog_Enters_Leaves_output.avi', fourcc, 20.0, (int(cap.get(3)), int(cap.get(4))))\n",
    "\n",
    "while cap.isOpened():\n",
    "    ret, frame = cap.read()\n",
    "    if not ret:\n",
    "        break\n",
    "    \n",
    "    results = model(frame)\n",
    "    \n",
    "    dog_detected = False\n",
    "    dog_center = None\n",
    "    \n",
    "    for result in results:\n",
    "        for box in result.boxes:\n",
    "            x1, y1, x2, y2 = box.xyxy[0].cpu().numpy().astype(int)\n",
    "            label = box.cls.item()\n",
    "            \n",
    "            if label == 0:\n",
    "                dog_center = ((x1 + x2) // 2, (y1 + y2) // 2)\n",
    "                dog_detected = True\n",
    "                \n",
    "                cv2.putText(frame, 'Dog', (x1, y1 - 10), cv2.FONT_HERSHEY_SIMPLEX, 0.9, (0, 0, 255), 2)\n",
    "                cv2.rectangle(frame, (x1, y1), (x2, y2), (0, 0, 255), 2)\n",
    "    \n",
    "    cv2.polylines(frame, [entrance_exit_polygon], isClosed=True, color=(255, 0, 0), thickness=2)\n",
    "    \n",
    "    if dog_state == 'outside':\n",
    "        if dog_detected and is_in_doorway(dog_center, entrance_exit_polygon):\n",
    "            dog_state = 'in_doorway'\n",
    "    elif dog_state == 'in_doorway':\n",
    "        if dog_detected and not is_in_doorway(dog_center, entrance_exit_polygon):\n",
    "            dog_state = 'outside'\n",
    "        elif not dog_detected:\n",
    "            dog_state = 'inside'\n",
    "    elif dog_state == 'inside':\n",
    "        if dog_detected and is_in_doorway(dog_center, entrance_exit_polygon):\n",
    "            dog_state = 'in_doorway'\n",
    "    \n",
    "    cv2.putText(frame, f'Dog State: {dog_state}', (50, 50), cv2.FONT_HERSHEY_SIMPLEX, 1.0, (0, 255, 0), 2)\n",
    "    \n",
    "    out.write(frame)\n",
    "\n",
    "    cv2.imshow('CCTV Feed', frame)\n",
    "    \n",
    "    if cv2.waitKey(1) & 0xFF == ord('q'):\n",
    "        break\n",
    "\n",
    "cap.release()\n",
    "out.release()\n",
    "cv2.destroyAllWindows()"
   ]
  },
  {
   "cell_type": "markdown",
   "metadata": {},
   "source": [
    "### Cat Frames/Labels Appending"
   ]
  },
  {
   "cell_type": "markdown",
   "metadata": {},
   "source": [
    "This script merges the cat frames and labels with dog frames and labels avoiding name conflicts "
   ]
  },
  {
   "cell_type": "code",
   "execution_count": null,
   "metadata": {},
   "outputs": [],
   "source": [
    "import os\n",
    "import shutil\n",
    "\n",
    "def rename_and_copy_files(src_folder, dest_folder, prefix):\n",
    "    if not os.path.exists(dest_folder):\n",
    "        os.makedirs(dest_folder)\n",
    "    for filename in os.listdir(src_folder):\n",
    "        src_file = os.path.join(src_folder, filename)\n",
    "        if os.path.isfile(src_file):\n",
    "            new_filename = prefix + \"_\" + filename\n",
    "            dest_file = os.path.join(dest_folder, new_filename)\n",
    "            shutil.copy2(src_file, dest_file)\n",
    "\n",
    "def update_labels(src_folder, dest_folder, class_index, prefix):\n",
    "    if not os.path.exists(dest_folder):\n",
    "        os.makedirs(dest_folder)\n",
    "    for filename in os.listdir(src_folder):\n",
    "        src_file = os.path.join(src_folder, filename)\n",
    "        new_filename = prefix + \"_\" + filename\n",
    "        dest_file = os.path.join(dest_folder, new_filename)\n",
    "        with open(src_file, 'r') as file:\n",
    "            lines = file.readlines()\n",
    "        with open(dest_file, 'w') as file:\n",
    "            for line in lines:\n",
    "                parts = line.strip().split()\n",
    "                if len(parts) == 5:\n",
    "                    parts[0] = str(class_index)\n",
    "                    file.write(' '.join(parts) + '\\n')\n",
    "\n",
    "dog_images_folder = 'NewNewFrames'\n",
    "cat_images_folder = 'NewCatFrames'\n",
    "dog_labels_folder = 'NewNewLabels'\n",
    "cat_labels_folder = 'NewCatLabels'\n",
    "\n",
    "merged_images_folder = 'MergedFrames'\n",
    "merged_labels_folder = 'MergedLabels'\n",
    "\n",
    "rename_and_copy_files(dog_images_folder, merged_images_folder, 'dog')\n",
    "update_labels(dog_labels_folder, merged_labels_folder, 0, 'dog')\n",
    "\n",
    "rename_and_copy_files(cat_images_folder, merged_images_folder, 'cat')\n",
    "update_labels(cat_labels_folder, merged_labels_folder, 1, 'cat')\n",
    "\n",
    "print(\"Files renamed, merged, and labels updated successfully.\")\n"
   ]
  },
  {
   "cell_type": "markdown",
   "metadata": {},
   "source": [
    "### Model Fine-Tuning with Cat Data"
   ]
  },
  {
   "cell_type": "markdown",
   "metadata": {},
   "source": [
    "This script trains a trained model once more to introduce the Cat"
   ]
  },
  {
   "cell_type": "code",
   "execution_count": null,
   "metadata": {},
   "outputs": [],
   "source": [
    "if torch.cuda.is_available():\n",
    "    print(\"GPU is available\")\n",
    "    device = torch.device('cuda')\n",
    "else:\n",
    "    print(\"GPU is not available, using CPU\")\n",
    "    device = torch.device('cpu')\n",
    "\n",
    "model = YOLO('runs/detect/train/weights/best.pt')\n",
    "\n",
    "dataset_config = 'E:/PetTrackingProject/coco.yaml'\n",
    "\n",
    "results = model.train(data=dataset_config, epochs=50, imgsz=1280, device=device)"
   ]
  },
  {
   "cell_type": "markdown",
   "metadata": {},
   "source": [
    "### Dog and Cat Detection"
   ]
  },
  {
   "cell_type": "markdown",
   "metadata": {},
   "source": [
    "This script detects the Dog and Cat simultaneously "
   ]
  },
  {
   "cell_type": "code",
   "execution_count": null,
   "metadata": {},
   "outputs": [],
   "source": [
    "import cv2\n",
    "from ultralytics import YOLO\n",
    "\n",
    "model = YOLO('runs/detect/train5/weights/best.pt')\n",
    "\n",
    "input_video_path = f'Videos/OriginalVideos/DogCatTest.mp4'\n",
    "output_video_path = f'Videos/Results/DogCatTest_output.mp4'\n",
    "\n",
    "cap = cv2.VideoCapture(input_video_path)\n",
    "\n",
    "frame_width = int(cap.get(cv2.CAP_PROP_FRAME_WIDTH))\n",
    "frame_height = int(cap.get(cv2.CAP_PROP_FRAME_HEIGHT))\n",
    "fps = cap.get(cv2.CAP_PROP_FPS)\n",
    "\n",
    "fourcc = cv2.VideoWriter_fourcc(*'mp4v')\n",
    "out = cv2.VideoWriter(output_video_path, fourcc, fps, (frame_width, frame_height))\n",
    "\n",
    "while cap.isOpened():\n",
    "    ret, frame = cap.read()\n",
    "    if not ret:\n",
    "        break\n",
    "    \n",
    "    results = model(frame)\n",
    "    \n",
    "    for result in results:\n",
    "        for bbox in result.boxes:\n",
    "            x1, y1, x2, y2 = map(int, bbox.xyxy[0])\n",
    "            confidence = bbox.conf[0]\n",
    "            class_id = int(bbox.cls[0])\n",
    "            label = model.names[class_id]\n",
    "\n",
    "            if label == 'dog':\n",
    "                color = (0, 0, 255)\n",
    "            elif label == 'cat':\n",
    "                color = (255, 0, 0)\n",
    "            else:\n",
    "                continue\n",
    "\n",
    "            cv2.rectangle(frame, (x1, y1), (x2, y2), color, 2)\n",
    "            cv2.putText(frame, f'{label} {confidence:.2f}', (x1, y1 - 10), cv2.FONT_HERSHEY_SIMPLEX, 0.9, color, 2)\n",
    "    \n",
    "    out.write(frame)\n",
    "\n",
    "cap.release()\n",
    "out.release()\n",
    "cv2.destroyAllWindows()\n"
   ]
  }
 ],
 "metadata": {
  "kernelspec": {
   "display_name": "Python 3",
   "language": "python",
   "name": "python3"
  },
  "language_info": {
   "codemirror_mode": {
    "name": "ipython",
    "version": 3
   },
   "file_extension": ".py",
   "mimetype": "text/x-python",
   "name": "python",
   "nbconvert_exporter": "python",
   "pygments_lexer": "ipython3",
   "version": "3.11.9"
  }
 },
 "nbformat": 4,
 "nbformat_minor": 2
}
